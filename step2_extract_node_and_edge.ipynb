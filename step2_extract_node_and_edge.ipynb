{
 "cells": [
  {
   "cell_type": "markdown",
   "metadata": {},
   "source": [
    "## ダミーの保険契約データからソーシャルグラフの関係性を抽出\n",
    "ダミー個人情報の取得元 https://tm-webtools.com/Tools/TestData\n",
    "\n",
    "ダミー住所情報の取得元 http://jusyo.jp/"
   ]
  },
  {
   "cell_type": "code",
   "execution_count": 2,
   "metadata": {},
   "outputs": [],
   "source": [
    "import pandas as pd\n",
    "\n",
    "pd.set_option('display.max_columns', 100)\n",
    "pd.set_option('display.max_rows', 500)"
   ]
  },
  {
   "cell_type": "code",
   "execution_count": 3,
   "metadata": {},
   "outputs": [],
   "source": [
    "df_branch = pd.read_csv('data/branch_info.csv')\n",
    "df_staff = pd.read_csv('data/generated_staffs.csv')\n",
    "df_contract = pd.read_csv('data/generated_contracts.csv')"
   ]
  },
  {
   "cell_type": "code",
   "execution_count": 4,
   "metadata": {},
   "outputs": [
    {
     "data": {
      "text/html": [
       "<div>\n",
       "<style scoped>\n",
       "    .dataframe tbody tr th:only-of-type {\n",
       "        vertical-align: middle;\n",
       "    }\n",
       "\n",
       "    .dataframe tbody tr th {\n",
       "        vertical-align: top;\n",
       "    }\n",
       "\n",
       "    .dataframe thead th {\n",
       "        text-align: right;\n",
       "    }\n",
       "</style>\n",
       "<table border=\"1\" class=\"dataframe\">\n",
       "  <thead>\n",
       "    <tr style=\"text-align: right;\">\n",
       "      <th></th>\n",
       "      <th>postal_area</th>\n",
       "      <th>post_office_cd</th>\n",
       "      <th>post_office_name</th>\n",
       "      <th>post_office_pronunciation</th>\n",
       "    </tr>\n",
       "  </thead>\n",
       "  <tbody>\n",
       "    <tr>\n",
       "      <th>0</th>\n",
       "      <td>神田</td>\n",
       "      <td>1008</td>\n",
       "      <td>神田郵便局</td>\n",
       "      <td>かんだ</td>\n",
       "    </tr>\n",
       "    <tr>\n",
       "      <th>1</th>\n",
       "      <td>神田</td>\n",
       "      <td>1024</td>\n",
       "      <td>小川町駅前郵便局</td>\n",
       "      <td>おがわまちえきまえ</td>\n",
       "    </tr>\n",
       "    <tr>\n",
       "      <th>2</th>\n",
       "      <td>神田</td>\n",
       "      <td>1042</td>\n",
       "      <td>西神田郵便局</td>\n",
       "      <td>にしかんだ</td>\n",
       "    </tr>\n",
       "  </tbody>\n",
       "</table>\n",
       "</div>"
      ],
      "text/plain": [
       "  postal_area post_office_cd post_office_name post_office_pronunciation\n",
       "0          神田           1008            神田郵便局                       かんだ\n",
       "1          神田           1024         小川町駅前郵便局                 おがわまちえきまえ\n",
       "2          神田           1042           西神田郵便局                     にしかんだ"
      ]
     },
     "execution_count": 4,
     "metadata": {},
     "output_type": "execute_result"
    }
   ],
   "source": [
    "df_branch.head(3)"
   ]
  },
  {
   "cell_type": "code",
   "execution_count": 5,
   "metadata": {},
   "outputs": [
    {
     "data": {
      "text/html": [
       "<div>\n",
       "<style scoped>\n",
       "    .dataframe tbody tr th:only-of-type {\n",
       "        vertical-align: middle;\n",
       "    }\n",
       "\n",
       "    .dataframe tbody tr th {\n",
       "        vertical-align: top;\n",
       "    }\n",
       "\n",
       "    .dataframe thead th {\n",
       "        text-align: right;\n",
       "    }\n",
       "</style>\n",
       "<table border=\"1\" class=\"dataframe\">\n",
       "  <thead>\n",
       "    <tr style=\"text-align: right;\">\n",
       "      <th></th>\n",
       "      <th>staff_cd</th>\n",
       "      <th>last_name</th>\n",
       "      <th>first_name</th>\n",
       "      <th>last_name_pronunciation</th>\n",
       "      <th>first_name_pronunciation</th>\n",
       "      <th>gender</th>\n",
       "      <th>birthday</th>\n",
       "      <th>age</th>\n",
       "      <th>phone</th>\n",
       "      <th>post_office_cd</th>\n",
       "    </tr>\n",
       "  </thead>\n",
       "  <tbody>\n",
       "    <tr>\n",
       "      <th>0</th>\n",
       "      <td>0</td>\n",
       "      <td>柳</td>\n",
       "      <td>昭一</td>\n",
       "      <td>ヤナギ</td>\n",
       "      <td>ショウイチ</td>\n",
       "      <td>男</td>\n",
       "      <td>1985/9/25</td>\n",
       "      <td>34</td>\n",
       "      <td>090-3602-0717</td>\n",
       "      <td>755</td>\n",
       "    </tr>\n",
       "    <tr>\n",
       "      <th>1</th>\n",
       "      <td>1</td>\n",
       "      <td>栗原</td>\n",
       "      <td>昌之</td>\n",
       "      <td>クリハラ</td>\n",
       "      <td>マサユキ</td>\n",
       "      <td>男</td>\n",
       "      <td>1985/8/29</td>\n",
       "      <td>34</td>\n",
       "      <td>090-2226-4253</td>\n",
       "      <td>1128</td>\n",
       "    </tr>\n",
       "    <tr>\n",
       "      <th>2</th>\n",
       "      <td>2</td>\n",
       "      <td>戸川</td>\n",
       "      <td>心愛</td>\n",
       "      <td>トガワ</td>\n",
       "      <td>ココア</td>\n",
       "      <td>女</td>\n",
       "      <td>1969/10/21</td>\n",
       "      <td>50</td>\n",
       "      <td>080-8104-8561</td>\n",
       "      <td>1072</td>\n",
       "    </tr>\n",
       "  </tbody>\n",
       "</table>\n",
       "</div>"
      ],
      "text/plain": [
       "   staff_cd last_name first_name last_name_pronunciation  \\\n",
       "0         0         柳         昭一                     ヤナギ   \n",
       "1         1        栗原         昌之                    クリハラ   \n",
       "2         2        戸川         心愛                     トガワ   \n",
       "\n",
       "  first_name_pronunciation gender    birthday  age          phone  \\\n",
       "0                    ショウイチ      男   1985/9/25   34  090-3602-0717   \n",
       "1                     マサユキ      男   1985/8/29   34  090-2226-4253   \n",
       "2                      ココア      女  1969/10/21   50  080-8104-8561   \n",
       "\n",
       "   post_office_cd  \n",
       "0             755  \n",
       "1            1128  \n",
       "2            1072  "
      ]
     },
     "execution_count": 5,
     "metadata": {},
     "output_type": "execute_result"
    }
   ],
   "source": [
    "df_staff.head(3)"
   ]
  },
  {
   "cell_type": "code",
   "execution_count": 6,
   "metadata": {},
   "outputs": [
    {
     "data": {
      "text/html": [
       "<div>\n",
       "<style scoped>\n",
       "    .dataframe tbody tr th:only-of-type {\n",
       "        vertical-align: middle;\n",
       "    }\n",
       "\n",
       "    .dataframe tbody tr th {\n",
       "        vertical-align: top;\n",
       "    }\n",
       "\n",
       "    .dataframe thead th {\n",
       "        text-align: right;\n",
       "    }\n",
       "</style>\n",
       "<table border=\"1\" class=\"dataframe\">\n",
       "  <thead>\n",
       "    <tr style=\"text-align: right;\">\n",
       "      <th></th>\n",
       "      <th>staff_cd</th>\n",
       "      <th>type</th>\n",
       "      <th>contractor_last_name</th>\n",
       "      <th>contractor_last_name_pron</th>\n",
       "      <th>contractor_first_name</th>\n",
       "      <th>contractor_first_name_pron</th>\n",
       "      <th>contractor_age</th>\n",
       "      <th>contractor_birthday</th>\n",
       "      <th>contractor_gender</th>\n",
       "      <th>contractor_postal_cd</th>\n",
       "      <th>...</th>\n",
       "      <th>insured_first_name</th>\n",
       "      <th>insured_first_name_pron</th>\n",
       "      <th>insured_age</th>\n",
       "      <th>insured_birthday</th>\n",
       "      <th>insured_gender</th>\n",
       "      <th>insured_postal_cd</th>\n",
       "      <th>insured_address_1</th>\n",
       "      <th>insured_address_2</th>\n",
       "      <th>insured_address_3</th>\n",
       "      <th>insured_phone</th>\n",
       "    </tr>\n",
       "  </thead>\n",
       "  <tbody>\n",
       "    <tr>\n",
       "      <th>0</th>\n",
       "      <td>17</td>\n",
       "      <td>定期</td>\n",
       "      <td>江崎</td>\n",
       "      <td>エサキ</td>\n",
       "      <td>実桜</td>\n",
       "      <td>ミオ</td>\n",
       "      <td>15</td>\n",
       "      <td>2004/8/25</td>\n",
       "      <td>女</td>\n",
       "      <td>170-8457</td>\n",
       "      <td>...</td>\n",
       "      <td>実桜</td>\n",
       "      <td>ミオ</td>\n",
       "      <td>15</td>\n",
       "      <td>2004/8/25</td>\n",
       "      <td>女</td>\n",
       "      <td>170-8457</td>\n",
       "      <td>東京都</td>\n",
       "      <td>豊島区</td>\n",
       "      <td>南大塚２丁目２９番７号</td>\n",
       "      <td>090-8967-9720</td>\n",
       "    </tr>\n",
       "    <tr>\n",
       "      <th>1</th>\n",
       "      <td>17</td>\n",
       "      <td>養老</td>\n",
       "      <td>江崎</td>\n",
       "      <td>エサキ</td>\n",
       "      <td>実桜</td>\n",
       "      <td>ミオ</td>\n",
       "      <td>15</td>\n",
       "      <td>2004/8/25</td>\n",
       "      <td>女</td>\n",
       "      <td>170-8457</td>\n",
       "      <td>...</td>\n",
       "      <td>実桜</td>\n",
       "      <td>ミオ</td>\n",
       "      <td>15</td>\n",
       "      <td>2004/8/25</td>\n",
       "      <td>女</td>\n",
       "      <td>170-8457</td>\n",
       "      <td>東京都</td>\n",
       "      <td>豊島区</td>\n",
       "      <td>南大塚２丁目２９番７号</td>\n",
       "      <td>090-8967-9720</td>\n",
       "    </tr>\n",
       "    <tr>\n",
       "      <th>2</th>\n",
       "      <td>17</td>\n",
       "      <td>学資</td>\n",
       "      <td>江崎</td>\n",
       "      <td>エサキ</td>\n",
       "      <td>実桜</td>\n",
       "      <td>ミオ</td>\n",
       "      <td>15</td>\n",
       "      <td>2004/8/25</td>\n",
       "      <td>女</td>\n",
       "      <td>170-8457</td>\n",
       "      <td>...</td>\n",
       "      <td>裕子</td>\n",
       "      <td>ヒロコ</td>\n",
       "      <td>0</td>\n",
       "      <td>1987/3/24</td>\n",
       "      <td>女</td>\n",
       "      <td>170-8457</td>\n",
       "      <td>東京都</td>\n",
       "      <td>豊島区</td>\n",
       "      <td>南大塚２丁目２９番７号</td>\n",
       "      <td>080-6117-0321</td>\n",
       "    </tr>\n",
       "  </tbody>\n",
       "</table>\n",
       "<p>3 rows × 26 columns</p>\n",
       "</div>"
      ],
      "text/plain": [
       "   staff_cd type contractor_last_name contractor_last_name_pron  \\\n",
       "0        17   定期                   江崎                       エサキ   \n",
       "1        17   養老                   江崎                       エサキ   \n",
       "2        17   学資                   江崎                       エサキ   \n",
       "\n",
       "  contractor_first_name contractor_first_name_pron  contractor_age  \\\n",
       "0                    実桜                         ミオ              15   \n",
       "1                    実桜                         ミオ              15   \n",
       "2                    実桜                         ミオ              15   \n",
       "\n",
       "  contractor_birthday contractor_gender contractor_postal_cd  ...  \\\n",
       "0           2004/8/25                 女             170-8457  ...   \n",
       "1           2004/8/25                 女             170-8457  ...   \n",
       "2           2004/8/25                 女             170-8457  ...   \n",
       "\n",
       "  insured_first_name insured_first_name_pron insured_age insured_birthday  \\\n",
       "0                 実桜                      ミオ          15        2004/8/25   \n",
       "1                 実桜                      ミオ          15        2004/8/25   \n",
       "2                 裕子                     ヒロコ           0        1987/3/24   \n",
       "\n",
       "  insured_gender insured_postal_cd insured_address_1 insured_address_2  \\\n",
       "0              女          170-8457               東京都               豊島区   \n",
       "1              女          170-8457               東京都               豊島区   \n",
       "2              女          170-8457               東京都               豊島区   \n",
       "\n",
       "   insured_address_3  insured_phone  \n",
       "0        南大塚２丁目２９番７号  090-8967-9720  \n",
       "1        南大塚２丁目２９番７号  090-8967-9720  \n",
       "2        南大塚２丁目２９番７号  080-6117-0321  \n",
       "\n",
       "[3 rows x 26 columns]"
      ]
     },
     "execution_count": 6,
     "metadata": {},
     "output_type": "execute_result"
    }
   ],
   "source": [
    "df_contract.head(3)"
   ]
  },
  {
   "cell_type": "code",
   "execution_count": 7,
   "metadata": {
    "scrolled": true
   },
   "outputs": [
    {
     "data": {
      "text/html": [
       "<div>\n",
       "<style scoped>\n",
       "    .dataframe tbody tr th:only-of-type {\n",
       "        vertical-align: middle;\n",
       "    }\n",
       "\n",
       "    .dataframe tbody tr th {\n",
       "        vertical-align: top;\n",
       "    }\n",
       "\n",
       "    .dataframe thead th {\n",
       "        text-align: right;\n",
       "    }\n",
       "</style>\n",
       "<table border=\"1\" class=\"dataframe\">\n",
       "  <thead>\n",
       "    <tr style=\"text-align: right;\">\n",
       "      <th></th>\n",
       "      <th>postal_area</th>\n",
       "      <th>post_office_cd</th>\n",
       "      <th>post_office_name</th>\n",
       "      <th>post_office_pronunciation</th>\n",
       "    </tr>\n",
       "  </thead>\n",
       "  <tbody>\n",
       "    <tr>\n",
       "      <th>4</th>\n",
       "      <td>神田</td>\n",
       "      <td>1128</td>\n",
       "      <td>神田今川橋郵便局</td>\n",
       "      <td>かんだいまがわばし</td>\n",
       "    </tr>\n",
       "    <tr>\n",
       "      <th>29</th>\n",
       "      <td>銀座</td>\n",
       "      <td>1072</td>\n",
       "      <td>東京高等裁判所内郵便局</td>\n",
       "      <td>とうきょうこうとうさいばんしょない</td>\n",
       "    </tr>\n",
       "    <tr>\n",
       "      <th>46</th>\n",
       "      <td>銀座</td>\n",
       "      <td>755</td>\n",
       "      <td>千代田霞が関郵便局</td>\n",
       "      <td>ちよだかすみがせき</td>\n",
       "    </tr>\n",
       "  </tbody>\n",
       "</table>\n",
       "</div>"
      ],
      "text/plain": [
       "   postal_area post_office_cd post_office_name post_office_pronunciation\n",
       "4           神田           1128         神田今川橋郵便局                 かんだいまがわばし\n",
       "29          銀座           1072      東京高等裁判所内郵便局         とうきょうこうとうさいばんしょない\n",
       "46          銀座            755        千代田霞が関郵便局                 ちよだかすみがせき"
      ]
     },
     "execution_count": 7,
     "metadata": {},
     "output_type": "execute_result"
    }
   ],
   "source": [
    "post_office_cds = [str(x) for x in df_staff.post_office_cd.unique().tolist()]\n",
    "df_target_branch = df_branch[df_branch.post_office_cd.isin(post_office_cds)]\n",
    "df_target_branch"
   ]
  },
  {
   "cell_type": "markdown",
   "metadata": {},
   "source": [
    "### 郵便局ノードを生成\n",
    "今回作成するネットワークの親ノードになる郵便局データを作成する"
   ]
  },
  {
   "cell_type": "code",
   "execution_count": 8,
   "metadata": {},
   "outputs": [],
   "source": [
    "# データに含まれる郵便局の件数を取得\n",
    "num_post_office = df_target_branch.shape[0]\n",
    "\n",
    "# ノードのID（グラフ全体でユニークである必要あり）を生成する\n",
    "ids = ['po{}'.format(x) for x in df_target_branch.post_office_cd.tolist()]\n",
    "\n",
    "# ノードに付ける属性（プロパティ）として郵便局名を抽出する\n",
    "names = [x for x in df_target_branch.post_office_name.tolist()]\n",
    "\n",
    "# csv出力のため、辞書型に変換する\n",
    "postoffice_dict = {'~id': ids, 'name:String': names, '~label': 'post_office'}\n",
    "\n",
    "# Pandasの機能を利用してcsvとして出力する\n",
    "df_node_postoffice = pd.DataFrame(postoffice_dict)\n",
    "df_node_postoffice.to_csv('data/node1.csv', index=False, encoding='utf-8')"
   ]
  },
  {
   "cell_type": "code",
   "execution_count": 9,
   "metadata": {},
   "outputs": [
    {
     "data": {
      "text/html": [
       "<div>\n",
       "<style scoped>\n",
       "    .dataframe tbody tr th:only-of-type {\n",
       "        vertical-align: middle;\n",
       "    }\n",
       "\n",
       "    .dataframe tbody tr th {\n",
       "        vertical-align: top;\n",
       "    }\n",
       "\n",
       "    .dataframe thead th {\n",
       "        text-align: right;\n",
       "    }\n",
       "</style>\n",
       "<table border=\"1\" class=\"dataframe\">\n",
       "  <thead>\n",
       "    <tr style=\"text-align: right;\">\n",
       "      <th></th>\n",
       "      <th>~id</th>\n",
       "      <th>name:String</th>\n",
       "      <th>~label</th>\n",
       "    </tr>\n",
       "  </thead>\n",
       "  <tbody>\n",
       "    <tr>\n",
       "      <th>0</th>\n",
       "      <td>po1128</td>\n",
       "      <td>神田今川橋郵便局</td>\n",
       "      <td>post_office</td>\n",
       "    </tr>\n",
       "    <tr>\n",
       "      <th>1</th>\n",
       "      <td>po1072</td>\n",
       "      <td>東京高等裁判所内郵便局</td>\n",
       "      <td>post_office</td>\n",
       "    </tr>\n",
       "    <tr>\n",
       "      <th>2</th>\n",
       "      <td>po755</td>\n",
       "      <td>千代田霞が関郵便局</td>\n",
       "      <td>post_office</td>\n",
       "    </tr>\n",
       "  </tbody>\n",
       "</table>\n",
       "</div>"
      ],
      "text/plain": [
       "      ~id  name:String       ~label\n",
       "0  po1128     神田今川橋郵便局  post_office\n",
       "1  po1072  東京高等裁判所内郵便局  post_office\n",
       "2   po755    千代田霞が関郵便局  post_office"
      ]
     },
     "execution_count": 9,
     "metadata": {},
     "output_type": "execute_result"
    }
   ],
   "source": [
    "df_node_postoffice"
   ]
  },
  {
   "cell_type": "markdown",
   "metadata": {},
   "source": [
    "### 社員ノードを生成"
   ]
  },
  {
   "cell_type": "code",
   "execution_count": 10,
   "metadata": {},
   "outputs": [
    {
     "data": {
      "text/html": [
       "<div>\n",
       "<style scoped>\n",
       "    .dataframe tbody tr th:only-of-type {\n",
       "        vertical-align: middle;\n",
       "    }\n",
       "\n",
       "    .dataframe tbody tr th {\n",
       "        vertical-align: top;\n",
       "    }\n",
       "\n",
       "    .dataframe thead th {\n",
       "        text-align: right;\n",
       "    }\n",
       "</style>\n",
       "<table border=\"1\" class=\"dataframe\">\n",
       "  <thead>\n",
       "    <tr style=\"text-align: right;\">\n",
       "      <th></th>\n",
       "      <th>staff_cd</th>\n",
       "      <th>last_name</th>\n",
       "      <th>first_name</th>\n",
       "      <th>last_name_pronunciation</th>\n",
       "      <th>first_name_pronunciation</th>\n",
       "      <th>gender</th>\n",
       "      <th>birthday</th>\n",
       "      <th>age</th>\n",
       "      <th>phone</th>\n",
       "      <th>post_office_cd</th>\n",
       "    </tr>\n",
       "  </thead>\n",
       "  <tbody>\n",
       "    <tr>\n",
       "      <th>0</th>\n",
       "      <td>0</td>\n",
       "      <td>柳</td>\n",
       "      <td>昭一</td>\n",
       "      <td>ヤナギ</td>\n",
       "      <td>ショウイチ</td>\n",
       "      <td>男</td>\n",
       "      <td>1985/9/25</td>\n",
       "      <td>34</td>\n",
       "      <td>090-3602-0717</td>\n",
       "      <td>755</td>\n",
       "    </tr>\n",
       "    <tr>\n",
       "      <th>1</th>\n",
       "      <td>1</td>\n",
       "      <td>栗原</td>\n",
       "      <td>昌之</td>\n",
       "      <td>クリハラ</td>\n",
       "      <td>マサユキ</td>\n",
       "      <td>男</td>\n",
       "      <td>1985/8/29</td>\n",
       "      <td>34</td>\n",
       "      <td>090-2226-4253</td>\n",
       "      <td>1128</td>\n",
       "    </tr>\n",
       "    <tr>\n",
       "      <th>2</th>\n",
       "      <td>2</td>\n",
       "      <td>戸川</td>\n",
       "      <td>心愛</td>\n",
       "      <td>トガワ</td>\n",
       "      <td>ココア</td>\n",
       "      <td>女</td>\n",
       "      <td>1969/10/21</td>\n",
       "      <td>50</td>\n",
       "      <td>080-8104-8561</td>\n",
       "      <td>1072</td>\n",
       "    </tr>\n",
       "  </tbody>\n",
       "</table>\n",
       "</div>"
      ],
      "text/plain": [
       "   staff_cd last_name first_name last_name_pronunciation  \\\n",
       "0         0         柳         昭一                     ヤナギ   \n",
       "1         1        栗原         昌之                    クリハラ   \n",
       "2         2        戸川         心愛                     トガワ   \n",
       "\n",
       "  first_name_pronunciation gender    birthday  age          phone  \\\n",
       "0                    ショウイチ      男   1985/9/25   34  090-3602-0717   \n",
       "1                     マサユキ      男   1985/8/29   34  090-2226-4253   \n",
       "2                      ココア      女  1969/10/21   50  080-8104-8561   \n",
       "\n",
       "   post_office_cd  \n",
       "0             755  \n",
       "1            1128  \n",
       "2            1072  "
      ]
     },
     "execution_count": 10,
     "metadata": {},
     "output_type": "execute_result"
    }
   ],
   "source": [
    "df_staff.head(3)"
   ]
  },
  {
   "cell_type": "code",
   "execution_count": 11,
   "metadata": {},
   "outputs": [],
   "source": [
    "# データに含まれる郵便局の件数を取得\n",
    "num_staffs = df_staff.shape[0]\n",
    "\n",
    "# 姓と名を合体させて氏名カラムを生成\n",
    "df_staff['name'] = df_staff['last_name'] + df_staff['first_name']\n",
    "\n",
    "# ノードのID（グラフ全体でユニークである必要あり）を生成する\n",
    "ids = ['s{}'.format(x) for x in df_staff.staff_cd.tolist()]\n",
    "\n",
    "# ノードに付ける属性（プロパティ）として社員の名前と年齢、性別を抽出する\n",
    "names = [x for x in df_staff.name.tolist()]\n",
    "ages = [x for x in df_staff.age.tolist()]\n",
    "genders = [x for x in df_staff.gender.tolist()]\n",
    "\n",
    "# 生成したデータをPandas DataFrameに変換してcsv出力する\n",
    "df_node_staff = pd.DataFrame({'~id': ids, 'name:String': names, 'age:Int': ages, 'gender:String': genders, '~label': 'staff'})\n",
    "df_node_staff.to_csv('data/node2.csv', index=False, encoding='utf-8')"
   ]
  },
  {
   "cell_type": "code",
   "execution_count": 12,
   "metadata": {
    "scrolled": true
   },
   "outputs": [
    {
     "data": {
      "text/html": [
       "<div>\n",
       "<style scoped>\n",
       "    .dataframe tbody tr th:only-of-type {\n",
       "        vertical-align: middle;\n",
       "    }\n",
       "\n",
       "    .dataframe tbody tr th {\n",
       "        vertical-align: top;\n",
       "    }\n",
       "\n",
       "    .dataframe thead th {\n",
       "        text-align: right;\n",
       "    }\n",
       "</style>\n",
       "<table border=\"1\" class=\"dataframe\">\n",
       "  <thead>\n",
       "    <tr style=\"text-align: right;\">\n",
       "      <th></th>\n",
       "      <th>~id</th>\n",
       "      <th>name:String</th>\n",
       "      <th>age:Int</th>\n",
       "      <th>gender:String</th>\n",
       "      <th>~label</th>\n",
       "    </tr>\n",
       "  </thead>\n",
       "  <tbody>\n",
       "    <tr>\n",
       "      <th>0</th>\n",
       "      <td>s0</td>\n",
       "      <td>柳昭一</td>\n",
       "      <td>34</td>\n",
       "      <td>男</td>\n",
       "      <td>staff</td>\n",
       "    </tr>\n",
       "    <tr>\n",
       "      <th>1</th>\n",
       "      <td>s1</td>\n",
       "      <td>栗原昌之</td>\n",
       "      <td>34</td>\n",
       "      <td>男</td>\n",
       "      <td>staff</td>\n",
       "    </tr>\n",
       "    <tr>\n",
       "      <th>2</th>\n",
       "      <td>s2</td>\n",
       "      <td>戸川心愛</td>\n",
       "      <td>50</td>\n",
       "      <td>女</td>\n",
       "      <td>staff</td>\n",
       "    </tr>\n",
       "  </tbody>\n",
       "</table>\n",
       "</div>"
      ],
      "text/plain": [
       "  ~id name:String  age:Int gender:String ~label\n",
       "0  s0         柳昭一       34             男  staff\n",
       "1  s1        栗原昌之       34             男  staff\n",
       "2  s2        戸川心愛       50             女  staff"
      ]
     },
     "execution_count": 12,
     "metadata": {},
     "output_type": "execute_result"
    }
   ],
   "source": [
    "df_node_staff.head(3)"
   ]
  },
  {
   "cell_type": "markdown",
   "metadata": {},
   "source": [
    "### 郵便局->社員のエッジを生成"
   ]
  },
  {
   "cell_type": "code",
   "execution_count": 13,
   "metadata": {},
   "outputs": [],
   "source": [
    "# エッジを生成\n",
    "edge_ids = ['po_s{}'.format(x) for x in range(0, num_staffs)]\n",
    "from_nodes = ['po{}'.format(x) for x in df_staff.post_office_cd.tolist()]\n",
    "to_nodes = ['s{}'.format(x) for x in df_staff.staff_cd.tolist()]\n",
    "\n",
    "df_edge = pd.DataFrame({'~id': edge_ids, '~from': from_nodes, '~to': to_nodes, '~label': 'branch_staff'})\n",
    "df_edge.to_csv('data/edge1.csv', index=False)"
   ]
  },
  {
   "cell_type": "code",
   "execution_count": 14,
   "metadata": {
    "scrolled": false
   },
   "outputs": [
    {
     "data": {
      "text/html": [
       "<div>\n",
       "<style scoped>\n",
       "    .dataframe tbody tr th:only-of-type {\n",
       "        vertical-align: middle;\n",
       "    }\n",
       "\n",
       "    .dataframe tbody tr th {\n",
       "        vertical-align: top;\n",
       "    }\n",
       "\n",
       "    .dataframe thead th {\n",
       "        text-align: right;\n",
       "    }\n",
       "</style>\n",
       "<table border=\"1\" class=\"dataframe\">\n",
       "  <thead>\n",
       "    <tr style=\"text-align: right;\">\n",
       "      <th></th>\n",
       "      <th>~id</th>\n",
       "      <th>~from</th>\n",
       "      <th>~to</th>\n",
       "      <th>~label</th>\n",
       "    </tr>\n",
       "  </thead>\n",
       "  <tbody>\n",
       "    <tr>\n",
       "      <th>0</th>\n",
       "      <td>po_s0</td>\n",
       "      <td>po755</td>\n",
       "      <td>s0</td>\n",
       "      <td>branch_staff</td>\n",
       "    </tr>\n",
       "    <tr>\n",
       "      <th>1</th>\n",
       "      <td>po_s1</td>\n",
       "      <td>po1128</td>\n",
       "      <td>s1</td>\n",
       "      <td>branch_staff</td>\n",
       "    </tr>\n",
       "    <tr>\n",
       "      <th>2</th>\n",
       "      <td>po_s2</td>\n",
       "      <td>po1072</td>\n",
       "      <td>s2</td>\n",
       "      <td>branch_staff</td>\n",
       "    </tr>\n",
       "  </tbody>\n",
       "</table>\n",
       "</div>"
      ],
      "text/plain": [
       "     ~id   ~from ~to        ~label\n",
       "0  po_s0   po755  s0  branch_staff\n",
       "1  po_s1  po1128  s1  branch_staff\n",
       "2  po_s2  po1072  s2  branch_staff"
      ]
     },
     "execution_count": 14,
     "metadata": {},
     "output_type": "execute_result"
    }
   ],
   "source": [
    "df_edge.head(3)"
   ]
  },
  {
   "cell_type": "markdown",
   "metadata": {},
   "source": [
    "### 契約者ノードを生成"
   ]
  },
  {
   "cell_type": "code",
   "execution_count": 16,
   "metadata": {},
   "outputs": [],
   "source": [
    "contractor_columns = ['contractor_last_name',\n",
    "                      'contractor_last_name_pron',\n",
    "                      'contractor_first_name',\n",
    "                      'contractor_first_name_pron',\n",
    "                      'contractor_age',\n",
    "                      'contractor_birthday',\n",
    "                      'contractor_gender',\n",
    "                      'contractor_postal_cd',\n",
    "                      'contractor_address_1',\n",
    "                      'contractor_address_2',\n",
    "                      'contractor_address_3',\n",
    "                      'contractor_phone']\n",
    "contractor_unique_cols = ['contractor_last_name',\n",
    "                      'contractor_first_name',\n",
    "                      'contractor_birthday',\n",
    "                      'contractor_address_1',\n",
    "                      'contractor_address_2',\n",
    "                      'contractor_address_3']"
   ]
  },
  {
   "cell_type": "markdown",
   "metadata": {},
   "source": [
    "保険契約者の名寄せを実行"
   ]
  },
  {
   "cell_type": "code",
   "execution_count": 17,
   "metadata": {
    "scrolled": false
   },
   "outputs": [],
   "source": [
    "# ユニークキーとして利用する列だけを抽出\n",
    "df_unique_contractor = df_contract[contractor_columns].copy()\n",
    "\n",
    "# 重複するレコードをグループ化して1レコードに集約する\n",
    "df_unique_contractor = df_unique_contractor.groupby(by=contractor_unique_cols).max()\n",
    "\n",
    "# 重複排除したレコードに対してIDを割り振る\n",
    "df_unique_contractor['contractor_id'] = ['c{}'.format(x) for x in range(0, df_unique_contractor.shape[0])]\n",
    "\n",
    "# グループ化に利用した列を索引からデータ列に取り出し\n",
    "df_unique_contractor.reset_index(inplace=True)"
   ]
  },
  {
   "cell_type": "code",
   "execution_count": 18,
   "metadata": {},
   "outputs": [],
   "source": [
    "# 保険契約者のノードを生成\n",
    "df_unique_contractor['contractor_name'] = df_unique_contractor['contractor_last_name'] + df_unique_contractor['contractor_first_name']\n",
    "\n",
    "ids = [x for x in df_unique_contractor.contractor_id.tolist()]\n",
    "names = [x for x in df_unique_contractor.contractor_name.tolist()]\n",
    "ages = [x for x in df_unique_contractor.contractor_age.tolist()]\n",
    "genders = [x for x in df_unique_contractor.contractor_gender.tolist()]\n",
    "\n",
    "df_node_contractor = pd.DataFrame({'~id': ids, 'name:String': names, 'age:Int': ages, 'gender:String': genders, '~label': '契約者'})"
   ]
  },
  {
   "cell_type": "markdown",
   "metadata": {},
   "source": [
    "### 被保険者ノードを生成"
   ]
  },
  {
   "cell_type": "code",
   "execution_count": 19,
   "metadata": {},
   "outputs": [],
   "source": [
    "insured_columns = ['insured_last_name',\n",
    "                      'insured_last_name_pron',\n",
    "                      'insured_first_name',\n",
    "                      'insured_first_name_pron',\n",
    "                      'insured_age',\n",
    "                      'insured_birthday',\n",
    "                      'insured_gender',\n",
    "                      'insured_postal_cd',\n",
    "                      'insured_address_1',\n",
    "                      'insured_address_2',\n",
    "                      'insured_address_3',\n",
    "                      'insured_phone']\n",
    "insured_unique_cols = ['insured_last_name',\n",
    "                      'insured_first_name',\n",
    "                      'insured_birthday',\n",
    "                      'insured_address_1',\n",
    "                      'insured_address_2',\n",
    "                      'insured_address_3']"
   ]
  },
  {
   "cell_type": "code",
   "execution_count": 20,
   "metadata": {
    "scrolled": false
   },
   "outputs": [],
   "source": [
    "# 被保険者の名寄せを実行\n",
    "df_unique_insured = df_contract[insured_columns].copy()\n",
    "df_unique_insured = df_unique_insured.groupby(by=insured_unique_cols).max()\n",
    "df_unique_insured['insured_id'] = ['i{}'.format(x) for x in range(0, df_unique_insured.shape[0])]\n",
    "df_unique_insured.reset_index(inplace=True)"
   ]
  },
  {
   "cell_type": "code",
   "execution_count": 21,
   "metadata": {},
   "outputs": [],
   "source": [
    "# 保険契約者のノードを生成\n",
    "df_unique_insured['insured_name'] = df_unique_insured['insured_last_name'] + df_unique_insured['insured_first_name']\n",
    "\n",
    "ids = [x for x in df_unique_insured.insured_id.tolist()]\n",
    "names = [x for x in df_unique_insured.insured_name.tolist()]\n",
    "ages = [x for x in df_unique_insured.insured_age.tolist()]\n",
    "genders = [x for x in df_unique_insured.insured_gender.tolist()]\n",
    "\n",
    "df_node_insured = pd.DataFrame({'~id': ids, 'name:String': names, 'age:Int': ages, 'gender:String': genders, '~label': '被保険者'})"
   ]
  },
  {
   "cell_type": "code",
   "execution_count": 22,
   "metadata": {},
   "outputs": [],
   "source": [
    "# 保険契約者と被保険者のデータを一つのDataFrameに接続\n",
    "df_node_out = pd.concat([df_node_contractor, df_node_insured])\n",
    "\n",
    "# ロード用ファイルとして出力\n",
    "df_node_out.to_csv('data/node3.csv', index=False, encoding='utf-8')"
   ]
  },
  {
   "cell_type": "markdown",
   "metadata": {},
   "source": [
    "### 社員->契約者エッジを生成"
   ]
  },
  {
   "cell_type": "code",
   "execution_count": 23,
   "metadata": {},
   "outputs": [],
   "source": [
    "# 社員と契約者（のべ）の対応表を生成\n",
    "df_staff_contractor = pd.merge(df_contract, df_unique_contractor, how='left', on=contractor_unique_cols)\n",
    "df_staff_contractor = df_staff_contractor[['staff_cd', 'contractor_id', 'type']].copy()"
   ]
  },
  {
   "cell_type": "code",
   "execution_count": 24,
   "metadata": {
    "scrolled": false
   },
   "outputs": [],
   "source": [
    "# エッジを生成\n",
    "edge_ids = ['s_c{}'.format(x) for x in df_staff_contractor.index.tolist()]\n",
    "from_nodes = ['s{}'.format(x) for x in df_staff_contractor.staff_cd.tolist()]\n",
    "to_nodes = [x for x in df_staff_contractor.contractor_id.tolist()]\n",
    "labels = ['契約：{}'.format(x) for x in df_staff_contractor.type.tolist()]\n",
    "\n",
    "df_sc_edge = pd.DataFrame({'~id': edge_ids, '~from': from_nodes, '~to': to_nodes, '~label': labels})\n",
    "df_sc_edge.to_csv('data/edge2.csv', index=False)"
   ]
  },
  {
   "cell_type": "markdown",
   "metadata": {},
   "source": [
    "### 契約者->被保険者エッジを生成"
   ]
  },
  {
   "cell_type": "code",
   "execution_count": 25,
   "metadata": {},
   "outputs": [],
   "source": [
    "# 契約者と被保険者の対応表を生成\n",
    "df_temp = pd.merge(df_contract, df_staff_contractor.contractor_id, how='inner', left_index=True, right_index=True)\n",
    "df_contractor_insured = pd.merge(df_temp, df_unique_insured, how='left', on=insured_unique_cols)"
   ]
  },
  {
   "cell_type": "code",
   "execution_count": 26,
   "metadata": {},
   "outputs": [
    {
     "data": {
      "text/plain": [
       "'被保険：本人'"
      ]
     },
     "execution_count": 26,
     "metadata": {},
     "output_type": "execute_result"
    }
   ],
   "source": [
    "def detect_relation(row):\n",
    "    if (row.contractor_last_name == row.insured_last_name) and (row.contractor_first_name == row.insured_first_name):\n",
    "        return '被保険：本人'\n",
    "    elif (row.contractor_last_name == row.insured_last_name) and (row.contractor_first_name != row.insured_first_name):\n",
    "        return '被保険：家族'\n",
    "    else:\n",
    "        return '被保険：第3者'\n",
    "        \n",
    "detect_relation(df_contractor_insured.iloc[1])"
   ]
  },
  {
   "cell_type": "code",
   "execution_count": 27,
   "metadata": {},
   "outputs": [],
   "source": [
    "# エッジを生成\n",
    "edge_ids = ['c_i{}'.format(x) for x in df_contractor_insured.index.tolist()]\n",
    "from_nodes = [x for x in df_contractor_insured.contractor_id.tolist()]\n",
    "to_nodes = [x for x in df_contractor_insured.insured_id.tolist()]\n",
    "labels = df_contractor_insured.apply(detect_relation, axis=1).tolist()\n",
    "\n",
    "df_ci_edge = pd.DataFrame({'~id': edge_ids, '~from': from_nodes, '~to': to_nodes, '~label': labels})\n",
    "df_ci_edge.to_csv('data/edge3.csv', index=False)"
   ]
  },
  {
   "cell_type": "markdown",
   "metadata": {},
   "source": [
    "### 生成したノードとエッジの情報をS3にコピー\n",
    "\n",
    "\"&lt;S3 bucket name&gt;\" をハンズオン環境ごとのバケット名で置き換える  \n",
    "CloudFormationのサービス画面からスタック「vpc」→出力タブで、ハンズオン環境のバケット名が確認できる  "
   ]
  },
  {
   "cell_type": "code",
   "execution_count": null,
   "metadata": {
    "scrolled": true
   },
   "outputs": [],
   "source": [
    "!aws s3 cp 'data/node1.csv' 's3://<S3 bucket name>/data/graph/'\n",
    "!aws s3 cp 'data/node2.csv' 's3://<S3 bucket name>/data/graph/'\n",
    "!aws s3 cp 'data/node3.csv' 's3://<S3 bucket name>/data/graph/'\n",
    "!aws s3 cp 'data/edge1.csv' 's3://<S3 bucket name>/data/graph/'\n",
    "!aws s3 cp 'data/edge2.csv' 's3://<S3 bucket name>/data/graph/'\n",
    "!aws s3 cp 'data/edge3.csv' 's3://<S3 bucket name>/data/graph/'"
   ]
  },
  {
   "cell_type": "markdown",
   "metadata": {},
   "source": [
    "### マネジメントコンソールからNeptuneにS3へアクセスするIAMロールを付与する\n",
    "マネジメントコンソールに戻って操作する。  \n",
    "元の手順にガイドがあるので、そちらに従って操作を行います。"
   ]
  },
  {
   "cell_type": "markdown",
   "metadata": {},
   "source": [
    "### curlコマンドを利用してRESTでロード処理を起動"
   ]
  },
  {
   "cell_type": "markdown",
   "metadata": {},
   "source": [
    "Jupyter Notebook内からREST経由でNeptuneのグラフデータを操作することができる  \n",
    "\n",
    "\"&lt;neptune-endpoint&gt;\" をハンズオン環境ごとのEndpoint名で置き換える  \n",
    "CloudFormationのサービス画面からスタック「neptune」→出力タブで、Endpoint名が確認できる"
   ]
  },
  {
   "cell_type": "code",
   "execution_count": 103,
   "metadata": {},
   "outputs": [
    {
     "name": "stdout",
     "output_type": "stream",
     "text": [
      "{\"requestId\":\"eab81c1c-8602-8d4d-8538-d80dd0be0957\",\"status\":{\"message\":\"\",\"code\":200,\"attributes\":{\"@type\":\"g:Map\",\"@value\":[]}},\"result\":{\"data\":{\"@type\":\"g:List\",\"@value\":[{\"@type\":\"g:Int64\",\"@value\":0}]},\"meta\":{\"@type\":\"g:Map\",\"@value\":[]}}}"
     ]
    }
   ],
   "source": [
    "!curl -X POST -d '{\"gremlin\":\"g.V().count()\"}' https://<neptune-endpoint>:8182/gremlin\n"
   ]
  },
  {
   "cell_type": "markdown",
   "metadata": {},
   "source": [
    "APIのレスポンスそのままだと人間が理解しにくいので、出力を整形する簡単な関数を定義する"
   ]
  },
  {
   "cell_type": "code",
   "execution_count": 89,
   "metadata": {},
   "outputs": [],
   "source": [
    "import ast\n",
    "\n",
    "def parse_curl_output(output):\n",
    "    response_dict = ast.literal_eval(output[-1])\n",
    "    print('Request ID:', response_dict['requestId'])\n",
    "    print('http response code:', response_dict['status']['code'])\n",
    "    print('Result:', response_dict['result']['data']['@value'])"
   ]
  },
  {
   "cell_type": "markdown",
   "metadata": {},
   "source": [
    "既存のデータと重複しないように、既存のグラフデータをいったん削除する"
   ]
  },
  {
   "cell_type": "code",
   "execution_count": 91,
   "metadata": {},
   "outputs": [
    {
     "name": "stdout",
     "output_type": "stream",
     "text": [
      "Request ID: 5ab81c0a-5c7c-0d8f-25fa-236e3e41f453\n",
      "http response code: 200\n",
      "Result: []\n"
     ]
    }
   ],
   "source": [
    "curl_output = !curl -X POST -d '{\"gremlin\":\"g.V().drop()\"}' https://<neptune-endpoint>:8182/gremlin\n",
    "parse_curl_output(curl_output)    "
   ]
  },
  {
   "cell_type": "markdown",
   "metadata": {},
   "source": [
    "削除後に頂点の数をカウントすると0件であることが確認できる"
   ]
  },
  {
   "cell_type": "code",
   "execution_count": 92,
   "metadata": {},
   "outputs": [
    {
     "name": "stdout",
     "output_type": "stream",
     "text": [
      "Request ID: d8b81c0a-7c45-648b-43f3-b8c5684351e3\n",
      "http response code: 200\n",
      "Result: [{'@type': 'g:Int64', '@value': 0}]\n"
     ]
    }
   ],
   "source": [
    "curl_output = !curl -X POST -d '{\"gremlin\":\"g.V().count()\"}' https://<neptune-endpoint>:8182/gremlin\n",
    "parse_curl_output(curl_output)    "
   ]
  },
  {
   "cell_type": "markdown",
   "metadata": {},
   "source": [
    "同じようにcurlコマンドからロード処理を実行する\n",
    "\n",
    "\"&lt;S3 bucket name&gt;\" , \"&lt;neptune-endpoint&gt;\" , \"&lt;Arn of IAM Role for S3 loading&gt;\" をハンズオン環境ごとの値で置き換える  \n",
    "CloudFormationのサービス画面からスタック「neptune」→出力タブで確認できる"
   ]
  },
  {
   "cell_type": "code",
   "execution_count": 106,
   "metadata": {},
   "outputs": [
    {
     "name": "stdout",
     "output_type": "stream",
     "text": [
      "{\r\n",
      "    \"status\" : \"200 OK\",\r\n",
      "    \"payload\" : {\r\n",
      "        \"loadId\" : \"b882a574-8c54-472b-988a-fa0c4491dac9\"\r\n",
      "    }\r\n",
      "}"
     ]
    }
   ],
   "source": [
    "!curl -X POST \\\n",
    "    -H 'Content-Type: application/json' \\\n",
    "    https://<neptune-endpoint>:8182/loader -d ' \\\n",
    "    { \\\n",
    "      \"source\" : \"s3://<S3 bucket name>/data/graph\", \\\n",
    "      \"format\" : \"csv\", \\\n",
    "      \"iamRoleArn\" : \"<Arn of IAM Role for S3 loading>, \\\n",
    "      \"region\" : \"ap-northeast-1\", \\\n",
    "      \"failOnError\" : \"FALSE\", \\\n",
    "      \"parallelism\" : \"MEDIUM\", \\\n",
    "      \"updateSingleCardinalityProperties\" : \"FALSE\" \\\n",
    "    }' \\"
   ]
  },
  {
   "cell_type": "markdown",
   "metadata": {},
   "source": [
    "ロードコマンドが返却したloadIdを利用してステータスを照会する\n",
    "\n",
    "\"&lt;neptune-endpoint&gt;\" をハンズオン環境ごとの値で置き換える  \n",
    "CloudFormationのサービス画面からスタック「neptune」→出力タブで確認できる\n",
    "\n",
    "\"&lt;LoadId&gt;\" はロード処理セルの出力で置き換える"
   ]
  },
  {
   "cell_type": "code",
   "execution_count": 100,
   "metadata": {},
   "outputs": [
    {
     "name": "stdout",
     "output_type": "stream",
     "text": [
      "{\r\n",
      "    \"status\" : \"200 OK\",\r\n",
      "    \"payload\" : {\r\n",
      "        \"feedCount\" : [\r\n",
      "            {\r\n",
      "                \"LOAD_COMPLETED\" : 6\r\n",
      "            }\r\n",
      "        ],\r\n",
      "        \"overallStatus\" : {\r\n",
      "            \"fullUri\" : \"s3://tuki4-base-bucket/data/graph\",\r\n",
      "            \"runNumber\" : 3,\r\n",
      "            \"retryNumber\" : 0,\r\n",
      "            \"status\" : \"LOAD_COMPLETED\",\r\n",
      "            \"totalTimeSpent\" : 15,\r\n",
      "            \"startTime\" : 1581490885,\r\n",
      "            \"totalRecords\" : 2026,\r\n",
      "            \"totalDuplicates\" : 0,\r\n",
      "            \"parsingErrors\" : 0,\r\n",
      "            \"datatypeMismatchErrors\" : 0,\r\n",
      "            \"insertErrors\" : 0\r\n",
      "        },\r\n",
      "        \"errors\" : {\r\n",
      "            \"startIndex\" : 0,\r\n",
      "            \"endIndex\" : 0,\r\n",
      "            \"loadId\" : \"c4ded82f-a009-4799-b5b5-e1d0abb74296\",\r\n",
      "            \"errorLogs\" : [ ]\r\n",
      "        }\r\n",
      "    }\r\n",
      "}"
     ]
    }
   ],
   "source": [
    "!curl -X GET 'https://<neptune-endpoint>:8182/loader/<LoadId>?details=true&errors=true'"
   ]
  },
  {
   "cell_type": "markdown",
   "metadata": {},
   "source": [
    "ロード完了後に改めて頂点の数をカウントする  \n",
    "結果が350件になっていれば正常に投入されている"
   ]
  },
  {
   "cell_type": "code",
   "execution_count": 101,
   "metadata": {},
   "outputs": [
    {
     "name": "stdout",
     "output_type": "stream",
     "text": [
      "Request ID: ccb81c1a-2c55-fc1c-bfab-e6b0e8dfe996\n",
      "http response code: 200\n",
      "Result: [{'@type': 'g:Int64', '@value': 350}]\n"
     ]
    }
   ],
   "source": [
    "curl_output = !curl -X POST -d '{\"gremlin\":\"g.V().count()\"}' https://<neptune-endpoint>:8182/gremlin\n",
    "parse_curl_output(curl_output)    "
   ]
  },
  {
   "cell_type": "markdown",
   "metadata": {},
   "source": [
    "### ここまでの操作でNeptuneにグラフデータが投入できたので、元の手順に戻って「3. Graphexpを利用してグラフデータを可視化する」を進めてください。"
   ]
  },
  {
   "cell_type": "markdown",
   "metadata": {},
   "source": [
    " "
   ]
  },
  {
   "cell_type": "markdown",
   "metadata": {},
   "source": [
    "### この先のステップは、「3. Graphexpを利用してグラフデータを可視化する」が終わってから実施してください。"
   ]
  },
  {
   "cell_type": "markdown",
   "metadata": {},
   "source": [
    "### グラフを変更して見え方の違いを確認する"
   ]
  },
  {
   "cell_type": "code",
   "execution_count": 23,
   "metadata": {},
   "outputs": [],
   "source": [
    "# 事前処理を実施\n",
    "df_new_edge = "
   ]
  },
  {
   "cell_type": "code",
   "execution_count": null,
   "metadata": {},
   "outputs": [],
   "source": [
    "# エッジを生成\n",
    "edge_ids = ['new_edge{}'.format(x) for x in df_new_edge.index.tolist()]\n",
    "from_nodes = \n",
    "to_nodes = \n",
    "labels = ['new_edge' for x in df_new_edge.index.tolist()]\n",
    "\n",
    "df_new_edge_out = pd.DataFrame({'~id': edge_ids, '~from': from_nodes, '~to': to_nodes, '~label': labels})\n",
    "df_new_edge_out.to_csv('data/edge4.csv', index=False)"
   ]
  },
  {
   "cell_type": "markdown",
   "metadata": {},
   "source": [
    "エッジファイルをS3にコピーする"
   ]
  },
  {
   "cell_type": "code",
   "execution_count": null,
   "metadata": {},
   "outputs": [],
   "source": [
    "!aws s3 cp 'data/edge4.csv' 's3://tuki4-base-bucket/data/graph2/'"
   ]
  },
  {
   "cell_type": "markdown",
   "metadata": {},
   "source": [
    "Neptune内にあるエッジ数をカウント"
   ]
  },
  {
   "cell_type": "code",
   "execution_count": 105,
   "metadata": {},
   "outputs": [
    {
     "name": "stdout",
     "output_type": "stream",
     "text": [
      "Request ID: 4eb81c1f-8cf4-57f7-d3aa-d7e7d4d281a8\n",
      "http response code: 200\n",
      "Result: [{'@type': 'g:Int64', '@value': 0}]\n"
     ]
    }
   ],
   "source": [
    "curl_output = !curl -X POST -d '{\"gremlin\":\"g.E().count()\"}' https://<neptune-endpoint>:8182/gremlin\n",
    "parse_curl_output(curl_output)    "
   ]
  },
  {
   "cell_type": "markdown",
   "metadata": {},
   "source": [
    "エッジファイルをNeptuneにロードする"
   ]
  },
  {
   "cell_type": "code",
   "execution_count": 99,
   "metadata": {},
   "outputs": [
    {
     "name": "stdout",
     "output_type": "stream",
     "text": [
      "{\r\n",
      "    \"status\" : \"200 OK\",\r\n",
      "    \"payload\" : {\r\n",
      "        \"loadId\" : \"c4ded82f-a009-4799-b5b5-e1d0abb74296\"\r\n",
      "    }\r\n",
      "}"
     ]
    }
   ],
   "source": [
    "!curl -X POST \\\n",
    "    -H 'Content-Type: application/json' \\\n",
    "    https://<neptune-endpoint>:8182/loader -d ' \\\n",
    "    { \\\n",
    "      \"source\" : \"s3://<S3 bucket name>/data/graph2\", \\\n",
    "      \"format\" : \"csv\", \\\n",
    "      \"iamRoleArn\" : \"<Arn of IAM Role for S3 loading>\", \\\n",
    "      \"region\" : \"ap-northeast-1\", \\\n",
    "      \"failOnError\" : \"FALSE\", \\\n",
    "      \"parallelism\" : \"MEDIUM\", \\\n",
    "      \"updateSingleCardinalityProperties\" : \"FALSE\" \\\n",
    "    }' \\\n",
    "\n"
   ]
  },
  {
   "cell_type": "code",
   "execution_count": 100,
   "metadata": {},
   "outputs": [
    {
     "name": "stdout",
     "output_type": "stream",
     "text": [
      "{\r\n",
      "    \"status\" : \"200 OK\",\r\n",
      "    \"payload\" : {\r\n",
      "        \"feedCount\" : [\r\n",
      "            {\r\n",
      "                \"LOAD_COMPLETED\" : 6\r\n",
      "            }\r\n",
      "        ],\r\n",
      "        \"overallStatus\" : {\r\n",
      "            \"fullUri\" : \"s3://tuki4-base-bucket/data/graph\",\r\n",
      "            \"runNumber\" : 3,\r\n",
      "            \"retryNumber\" : 0,\r\n",
      "            \"status\" : \"LOAD_COMPLETED\",\r\n",
      "            \"totalTimeSpent\" : 15,\r\n",
      "            \"startTime\" : 1581490885,\r\n",
      "            \"totalRecords\" : 2026,\r\n",
      "            \"totalDuplicates\" : 0,\r\n",
      "            \"parsingErrors\" : 0,\r\n",
      "            \"datatypeMismatchErrors\" : 0,\r\n",
      "            \"insertErrors\" : 0\r\n",
      "        },\r\n",
      "        \"errors\" : {\r\n",
      "            \"startIndex\" : 0,\r\n",
      "            \"endIndex\" : 0,\r\n",
      "            \"loadId\" : \"c4ded82f-a009-4799-b5b5-e1d0abb74296\",\r\n",
      "            \"errorLogs\" : [ ]\r\n",
      "        }\r\n",
      "    }\r\n",
      "}"
     ]
    }
   ],
   "source": [
    "!curl -X GET 'https://<neptune-endpoint>:8182/loader/<LoadId>?details=true&errors=true'"
   ]
  },
  {
   "cell_type": "markdown",
   "metadata": {},
   "source": [
    "エッジが増えていることを確認する"
   ]
  },
  {
   "cell_type": "code",
   "execution_count": 105,
   "metadata": {},
   "outputs": [
    {
     "name": "stdout",
     "output_type": "stream",
     "text": [
      "Request ID: 4eb81c1f-8cf4-57f7-d3aa-d7e7d4d281a8\n",
      "http response code: 200\n",
      "Result: [{'@type': 'g:Int64', '@value': 0}]\n"
     ]
    }
   ],
   "source": [
    "curl_output = !curl -X POST -d '{\"gremlin\":\"g.E().count()\"}' https://<neptune-endpoint>:8182/gremlin\n",
    "parse_curl_output(curl_output)    "
   ]
  },
  {
   "cell_type": "markdown",
   "metadata": {},
   "source": [
    "### WorkSpacesのブラウザ（Graphexp）に戻って、新しいグラフの見え方を確認してください"
   ]
  }
 ],
 "metadata": {
  "kernelspec": {
   "display_name": "conda_python3",
   "language": "python",
   "name": "conda_python3"
  },
  "language_info": {
   "codemirror_mode": {
    "name": "ipython",
    "version": 3
   },
   "file_extension": ".py",
   "mimetype": "text/x-python",
   "name": "python",
   "nbconvert_exporter": "python",
   "pygments_lexer": "ipython3",
   "version": "3.6.5"
  }
 },
 "nbformat": 4,
 "nbformat_minor": 2
}
