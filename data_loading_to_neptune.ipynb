{
 "cells": [
  {
   "cell_type": "markdown",
   "metadata": {},
   "source": [
    "### 事前定義\n",
    "実行する環境やデータの配置場所に応じた設定を行う"
   ]
  },
  {
   "cell_type": "code",
   "execution_count": null,
   "metadata": {},
   "outputs": [],
   "source": [
    "# コマンド発行先のNeptuneインスタンスを定義する\n",
    "neptune_ep = 'neptunecluster-xxxxxxxx.neptune.amazonaws.com'\n",
    "\n",
    "# Neptuneにロードするデータの格納場所（S3）\n",
    "s3_data_prefix = 's3://xxxxxxxxx/data/graph_test/'\n",
    "\n",
    "# Neptuneに付与したLoad用のS3アクセスRole\n",
    "iamRoleArn = 'arn:aws:iam::xxxxxxxxxx'\n",
    "\n",
    "# Endpoint URLを生成\n",
    "neptune_port = '8182'\n",
    "neptune_ep_url = 'https://{}:{}'.format(neptune_ep, neptune_port)\n",
    "\n",
    "region = neptune_ep.split('.')[-4]"
   ]
  },
  {
   "cell_type": "markdown",
   "metadata": {},
   "source": [
    "### curlコマンドの実行用関数"
   ]
  },
  {
   "cell_type": "code",
   "execution_count": null,
   "metadata": {},
   "outputs": [],
   "source": [
    "import ast\n",
    "\n",
    "def parse_curl_output(output):\n",
    "    response_dict = ast.literal_eval(output[-1])\n",
    "    print('Request ID:', response_dict['requestId'])\n",
    "    print('http response code:', response_dict['status']['code'])\n",
    "    print('Result:', response_dict['result']['data']['@value'])\n",
    "    \n",
    "def exec_gremlin_query(query, ep=neptune_ep_url):\n",
    "    curl_cmd = 'curl -X POST -d \\'{}\\' {}/gremlin'.format(query, ep)\n",
    "    curl_output = !$curl_cmd\n",
    "    print(curl_cmd, '\\n')\n",
    "    parse_curl_output(curl_output)"
   ]
  },
  {
   "cell_type": "markdown",
   "metadata": {},
   "source": [
    "### 頂点の件数カウント"
   ]
  },
  {
   "cell_type": "code",
   "execution_count": null,
   "metadata": {
    "scrolled": true
   },
   "outputs": [],
   "source": [
    "# gremlinによる照会を定義する\n",
    "query = '{\"gremlin\":\"g.V().count()\"}'\n",
    "\n",
    "# 照会を実行\n",
    "exec_gremlin_query(query)"
   ]
  },
  {
   "cell_type": "markdown",
   "metadata": {},
   "source": [
    "### データが入っていたらいったんクリアする"
   ]
  },
  {
   "cell_type": "code",
   "execution_count": null,
   "metadata": {
    "scrolled": true
   },
   "outputs": [],
   "source": [
    "# gremlinによる照会を定義する\n",
    "query = '{\"gremlin\":\"g.V().drop()\"}'\n",
    "\n",
    "# 照会を実行\n",
    "exec_gremlin_query(query)"
   ]
  },
  {
   "cell_type": "markdown",
   "metadata": {},
   "source": [
    "### テストデータのロード処理を発行\n",
    "ここでは処理の指示を発行するだけで、実際の完了を待たずに制御が戻る"
   ]
  },
  {
   "cell_type": "code",
   "execution_count": null,
   "metadata": {},
   "outputs": [],
   "source": [
    "import json\n",
    "\n",
    "def exec_load(load_params, ep=neptune_ep_url):\n",
    "    \n",
    "    # loadコマンドの文字列を組み立てて実行\n",
    "    params_json = json.dumps(load_params)\n",
    "    curl_cmd = \"curl -X POST -H 'Content-Type: application/json' {}/loader -d '{}'\".format(ep, params_json)\n",
    "    print(curl_cmd, '\\n')\n",
    "    response=!$curl_cmd\n",
    "    \n",
    "    # 返却された文字列からloadIdを取り出してreturn。エラーが発生していてloadIdがなければresponse全体を出力\n",
    "    tmp = [x for x in response if 'loadId' in x]\n",
    "    if len(tmp) == 0:\n",
    "        print(response)\n",
    "        return None\n",
    "    else:\n",
    "        loadid = tmp[0].split()[-1].replace(\"\\\"\", \"\")\n",
    "        print('Load issued')\n",
    "        print('Load ID :{}'.format(loadid))\n",
    "        return loadid"
   ]
  },
  {
   "cell_type": "code",
   "execution_count": null,
   "metadata": {},
   "outputs": [],
   "source": [
    "# Loadを実行する\n",
    "load_params = {\n",
    "      \"source\" : s3_data_prefix,\n",
    "      \"format\" : \"csv\",\n",
    "      \"iamRoleArn\" : iamRoleArn,\n",
    "      \"region\" : region,\n",
    "      \"failOnError\" : \"FALSE\",\n",
    "      \"parallelism\" : \"MEDIUM\",\n",
    "      \"updateSingleCardinalityProperties\" : \"FALSE\"\n",
    "}\n",
    "\n",
    "loadid = exec_load(load_params)"
   ]
  },
  {
   "cell_type": "markdown",
   "metadata": {},
   "source": [
    "### ロード処理の状況を確認"
   ]
  },
  {
   "cell_type": "code",
   "execution_count": null,
   "metadata": {},
   "outputs": [],
   "source": [
    "curl_cmd = \"curl -X GET 'https://{}:8182/loader/{}?details=true&errors=true'\".format(neptune_ep, loadid)\n",
    "print(curl_cmd, '\\n')\n",
    "!$curl_cmd"
   ]
  },
  {
   "cell_type": "code",
   "execution_count": null,
   "metadata": {},
   "outputs": [],
   "source": []
  }
 ],
 "metadata": {
  "kernelspec": {
   "display_name": "conda_python3",
   "language": "python",
   "name": "conda_python3"
  },
  "language_info": {
   "codemirror_mode": {
    "name": "ipython",
    "version": 3
   },
   "file_extension": ".py",
   "mimetype": "text/x-python",
   "name": "python",
   "nbconvert_exporter": "python",
   "pygments_lexer": "ipython3",
   "version": "3.6.5"
  }
 },
 "nbformat": 4,
 "nbformat_minor": 2
}
